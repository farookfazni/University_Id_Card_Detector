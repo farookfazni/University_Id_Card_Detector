{
  "nbformat": 4,
  "nbformat_minor": 0,
  "metadata": {
    "colab": {
      "name": "ImageProcessing_Id_Card_Detector.ipynb",
      "provenance": [],
      "mount_file_id": "1mr5-VPG8_ch7rAFyV5jGhw0fmdnIB7fp",
      "authorship_tag": "ABX9TyPxOxZfn+pxyK/cCeADeQxe",
      "include_colab_link": true
    },
    "kernelspec": {
      "name": "python3",
      "display_name": "Python 3"
    },
    "language_info": {
      "name": "python"
    }
  },
  "cells": [
    {
      "cell_type": "markdown",
      "metadata": {
        "id": "view-in-github",
        "colab_type": "text"
      },
      "source": [
        "<a href=\"https://colab.research.google.com/github/farookfazni/University_Id_Card_Detector/blob/main/ImageProcessing_Id_Card_Detector.ipynb\" target=\"_parent\"><img src=\"https://colab.research.google.com/assets/colab-badge.svg\" alt=\"Open In Colab\"/></a>"
      ]
    },
    {
      "cell_type": "code",
      "metadata": {
        "id": "vpNW-RLkWkX0"
      },
      "source": [
        "import tensorflow as tf\n",
        "from tensorflow import keras\n",
        "from tensorflow.keras import layers"
      ],
      "execution_count": 1,
      "outputs": []
    },
    {
      "cell_type": "code",
      "metadata": {
        "id": "i5dyxsY8WtFa"
      },
      "source": [
        "import numpy as np\n",
        "import matplotlib.pyplot as plt"
      ],
      "execution_count": 2,
      "outputs": []
    },
    {
      "cell_type": "code",
      "metadata": {
        "id": "XwPNbilAWzQR"
      },
      "source": [
        "from tensorflow.keras.preprocessing.image import ImageDataGenerator\n",
        "from tensorflow.keras.preprocessing import image\n",
        "from tensorflow.keras.optimizers import RMSprop\n",
        "import cv2\n",
        "import os"
      ],
      "execution_count": 3,
      "outputs": []
    },
    {
      "cell_type": "code",
      "metadata": {
        "id": "j8AoPSulW1CA"
      },
      "source": [
        "# train = ImageDataGenerator(rescale= 1/255)\n",
        "# validation = ImageDataGenerator(rescale= 1/255)"
      ],
      "execution_count": 4,
      "outputs": []
    },
    {
      "cell_type": "code",
      "metadata": {
        "id": "jEI3ou62W_Uo"
      },
      "source": [
        "# train_dataset = train.flow_from_directory('drive/MyDrive/GoogleColab/dataset/train/', \n",
        "#                                           target_size=(1029, 644), \n",
        "#                                           batch_size = 3, \n",
        "#                                           class_mode = 'binary')\n",
        "# validation_dataset = train.flow_from_directory('drive/MyDrive/GoogleColab/dataset/validation/', \n",
        "#                                           target_size=(1029, 644), \n",
        "#                                           batch_size = 3, \n",
        "#                                           class_mode = 'binary')"
      ],
      "execution_count": 5,
      "outputs": []
    },
    {
      "cell_type": "code",
      "metadata": {
        "id": "V-nQ5nfRXBiI"
      },
      "source": [
        "# train_dataset.class_indices"
      ],
      "execution_count": 6,
      "outputs": []
    },
    {
      "cell_type": "code",
      "metadata": {
        "id": "5_rP5IrUYQ7K"
      },
      "source": [
        "# train_dataset.classes"
      ],
      "execution_count": 7,
      "outputs": []
    },
    {
      "cell_type": "code",
      "metadata": {
        "colab": {
          "base_uri": "https://localhost:8080/"
        },
        "id": "tJULqd_FZGOg",
        "outputId": "d2170bc2-6ca3-41af-badd-8cb3c736e393"
      },
      "source": [
        "import pathlib\n",
        "train_data_dir = pathlib.Path('drive/MyDrive/GoogleColab/dataset/train/')\n",
        "train_data_dir"
      ],
      "execution_count": 8,
      "outputs": [
        {
          "output_type": "execute_result",
          "data": {
            "text/plain": [
              "PosixPath('drive/MyDrive/GoogleColab/dataset/train')"
            ]
          },
          "metadata": {},
          "execution_count": 8
        }
      ]
    },
    {
      "cell_type": "code",
      "metadata": {
        "colab": {
          "base_uri": "https://localhost:8080/"
        },
        "id": "HbSm6MuiZSLX",
        "outputId": "a19a4dde-a794-42f5-d901-617b46a82cc9"
      },
      "source": [
        "image_count = len(list(train_data_dir.glob('*/*.jpg')))\n",
        "print(image_count)"
      ],
      "execution_count": 9,
      "outputs": [
        {
          "output_type": "stream",
          "name": "stdout",
          "text": [
            "30\n"
          ]
        }
      ]
    },
    {
      "cell_type": "code",
      "metadata": {
        "id": "e1983XFsZXEX"
      },
      "source": [
        "id_card_dict = {\n",
        "    'id': list(train_data_dir.glob('id/*')),\n",
        "    'not_id': list(train_data_dir.glob('not_id/*')),\n",
        "}"
      ],
      "execution_count": 10,
      "outputs": []
    },
    {
      "cell_type": "code",
      "metadata": {
        "id": "rEPf8kgEZaRX"
      },
      "source": [
        "id_card_labels_dict = {\n",
        "    'id': 0,\n",
        "    'not_id': 1,\n",
        "}"
      ],
      "execution_count": 11,
      "outputs": []
    },
    {
      "cell_type": "code",
      "metadata": {
        "id": "7YcG0SONZdaX"
      },
      "source": [
        "X, y = [], []\n",
        "\n",
        "for id_name, images in id_card_dict.items():\n",
        "    for image in images:\n",
        "        img = cv2.imread(str(image))\n",
        "        resized_img = cv2.resize(img,(1029, 644))\n",
        "        X.append(resized_img)\n",
        "        y.append(id_card_labels_dict[id_name])"
      ],
      "execution_count": 12,
      "outputs": []
    },
    {
      "cell_type": "code",
      "metadata": {
        "id": "db_ClqgJZiFX"
      },
      "source": [
        "X = np.array(X)\n",
        "y = np.array(y)"
      ],
      "execution_count": 13,
      "outputs": []
    },
    {
      "cell_type": "code",
      "metadata": {
        "id": "ezQGHTqXZoeA"
      },
      "source": [
        "from sklearn.model_selection import train_test_split\n",
        "X_train, X_test, y_train, y_test = train_test_split(X, y, random_state=0)"
      ],
      "execution_count": 14,
      "outputs": []
    },
    {
      "cell_type": "code",
      "metadata": {
        "id": "mj2xoKYqZuJv"
      },
      "source": [
        "X_train_scaled = X_train / 255\n",
        "X_test_scaled = X_test / 255"
      ],
      "execution_count": 15,
      "outputs": []
    },
    {
      "cell_type": "code",
      "metadata": {
        "id": "qRsDacyxYTjg"
      },
      "source": [
        "data_augmentation = keras.Sequential(\n",
        "  [\n",
        "    keras.layers.experimental.preprocessing.RandomFlip(\"horizontal\",input_shape=(644,1029,3)),\n",
        "    keras.layers.experimental.preprocessing.RandomRotation(0.1),\n",
        "    keras.layers.experimental.preprocessing.RandomZoom(0.1),\n",
        "  ]\n",
        ")"
      ],
      "execution_count": 16,
      "outputs": []
    },
    {
      "cell_type": "code",
      "metadata": {
        "id": "MY4IZ08mYV5o"
      },
      "source": [
        "model = keras.Sequential([\n",
        "                           data_augmentation,\n",
        "                           keras.layers.Conv2D(8, 3, padding='same', activation='relu'),\n",
        "                           keras.layers.MaxPool2D(),\n",
        "                           #\n",
        "                           keras.layers.Conv2D(16, 3, padding='same',activation='relu'),\n",
        "                           keras.layers.MaxPool2D(),\n",
        "                           #\n",
        "                           keras.layers.Conv2D(32 ,3, padding='same', activation='relu'),\n",
        "                           keras.layers.MaxPool2D(),\n",
        "                           keras.layers.Dropout(0.2),\n",
        "                           ##\n",
        "                           keras.layers.Flatten(),\n",
        "                           ##\n",
        "                           keras.layers.Dense(10,activation='relu'),\n",
        "                           ##\n",
        "                           keras.layers.Dense(1,activation='sigmoid')\n",
        "])"
      ],
      "execution_count": 17,
      "outputs": []
    },
    {
      "cell_type": "code",
      "metadata": {
        "id": "_qqWQBEVYYzw"
      },
      "source": [
        "model.compile(optimizer='adam',\n",
        "              loss='BinaryCrossentropy',\n",
        "              metrics=['accuracy'])"
      ],
      "execution_count": 18,
      "outputs": []
    },
    {
      "cell_type": "code",
      "metadata": {
        "colab": {
          "base_uri": "https://localhost:8080/"
        },
        "id": "e0-wpWfDYa-n",
        "outputId": "6e65f392-de26-493d-a089-b12a54d87939"
      },
      "source": [
        "model.fit(X_train_scaled, y_train, epochs=15)"
      ],
      "execution_count": null,
      "outputs": [
        {
          "output_type": "stream",
          "name": "stdout",
          "text": [
            "Epoch 1/15\n",
            "2/2 [==============================] - 26s 10s/step - loss: 0.9546 - accuracy: 0.5818\n",
            "Epoch 2/15\n",
            "2/2 [==============================] - 25s 10s/step - loss: 0.8504 - accuracy: 0.6182\n",
            "Epoch 3/15\n",
            "2/2 [==============================] - 25s 10s/step - loss: 0.6434 - accuracy: 0.8182\n",
            "Epoch 4/15\n",
            "2/2 [==============================] - 25s 10s/step - loss: 0.6023 - accuracy: 0.6727\n",
            "Epoch 5/15\n",
            "2/2 [==============================] - 25s 10s/step - loss: 0.5604 - accuracy: 0.6364\n",
            "Epoch 6/15\n",
            "2/2 [==============================] - 25s 10s/step - loss: 0.5358 - accuracy: 0.6364\n",
            "Epoch 7/15\n",
            "2/2 [==============================] - 28s 13s/step - loss: 0.5072 - accuracy: 0.6545\n",
            "Epoch 8/15\n",
            "2/2 [==============================] - 25s 10s/step - loss: 0.4784 - accuracy: 0.7455\n",
            "Epoch 9/15\n",
            "2/2 [==============================] - 25s 10s/step - loss: 0.4516 - accuracy: 0.8000\n",
            "Epoch 10/15\n",
            "2/2 [==============================] - 25s 10s/step - loss: 0.4135 - accuracy: 0.8182\n",
            "Epoch 11/15\n",
            "2/2 [==============================] - 25s 10s/step - loss: 0.3917 - accuracy: 0.8727\n",
            "Epoch 12/15\n",
            "2/2 [==============================] - 26s 11s/step - loss: 0.3309 - accuracy: 0.9273\n",
            "Epoch 13/15\n",
            "2/2 [==============================] - 25s 11s/step - loss: 0.2410 - accuracy: 0.9273\n",
            "Epoch 14/15\n",
            "2/2 [==============================] - 25s 10s/step - loss: 0.2224 - accuracy: 0.8545\n",
            "Epoch 15/15\n",
            "2/2 [==============================] - 25s 11s/step - loss: 0.1619 - accuracy: 0.8909\n"
          ]
        },
        {
          "output_type": "execute_result",
          "data": {
            "text/plain": [
              "<keras.callbacks.History at 0x7f47ce3c7090>"
            ]
          },
          "metadata": {},
          "execution_count": 23
        }
      ]
    },
    {
      "cell_type": "code",
      "metadata": {
        "colab": {
          "base_uri": "https://localhost:8080/"
        },
        "id": "LpeA4cyeYcyA",
        "outputId": "3d6a7e82-3606-4841-f7a3-00cf2cfa321b"
      },
      "source": [
        "model.evaluate(X_test_scaled,y_test)"
      ],
      "execution_count": null,
      "outputs": [
        {
          "output_type": "stream",
          "name": "stdout",
          "text": [
            "1/1 [==============================] - 3s 3s/step - loss: 0.3067 - accuracy: 0.8421\n"
          ]
        },
        {
          "output_type": "execute_result",
          "data": {
            "text/plain": [
              "[0.30667489767074585, 0.8421052694320679]"
            ]
          },
          "metadata": {},
          "execution_count": 24
        }
      ]
    },
    {
      "cell_type": "code",
      "metadata": {
        "id": "yWrdWqXGey_Y",
        "colab": {
          "base_uri": "https://localhost:8080/"
        },
        "outputId": "c861d652-c5e9-437a-e8ce-38fb7eeeaa38"
      },
      "source": [
        "pip install -q tensorflow-model-optimization"
      ],
      "execution_count": 20,
      "outputs": [
        {
          "output_type": "stream",
          "name": "stdout",
          "text": [
            "\u001b[?25l\r\u001b[K     |█▌                              | 10 kB 18.2 MB/s eta 0:00:01\r\u001b[K     |███                             | 20 kB 11.1 MB/s eta 0:00:01\r\u001b[K     |████▋                           | 30 kB 8.8 MB/s eta 0:00:01\r\u001b[K     |██████▏                         | 40 kB 7.9 MB/s eta 0:00:01\r\u001b[K     |███████▊                        | 51 kB 4.3 MB/s eta 0:00:01\r\u001b[K     |█████████▎                      | 61 kB 4.5 MB/s eta 0:00:01\r\u001b[K     |██████████▉                     | 71 kB 4.5 MB/s eta 0:00:01\r\u001b[K     |████████████▍                   | 81 kB 5.0 MB/s eta 0:00:01\r\u001b[K     |██████████████                  | 92 kB 5.1 MB/s eta 0:00:01\r\u001b[K     |███████████████▌                | 102 kB 4.1 MB/s eta 0:00:01\r\u001b[K     |█████████████████               | 112 kB 4.1 MB/s eta 0:00:01\r\u001b[K     |██████████████████▋             | 122 kB 4.1 MB/s eta 0:00:01\r\u001b[K     |████████████████████▏           | 133 kB 4.1 MB/s eta 0:00:01\r\u001b[K     |█████████████████████▊          | 143 kB 4.1 MB/s eta 0:00:01\r\u001b[K     |███████████████████████▎        | 153 kB 4.1 MB/s eta 0:00:01\r\u001b[K     |████████████████████████▉       | 163 kB 4.1 MB/s eta 0:00:01\r\u001b[K     |██████████████████████████▍     | 174 kB 4.1 MB/s eta 0:00:01\r\u001b[K     |████████████████████████████    | 184 kB 4.1 MB/s eta 0:00:01\r\u001b[K     |█████████████████████████████▌  | 194 kB 4.1 MB/s eta 0:00:01\r\u001b[K     |███████████████████████████████ | 204 kB 4.1 MB/s eta 0:00:01\r\u001b[K     |████████████████████████████████| 211 kB 4.1 MB/s \n",
            "\u001b[?25h"
          ]
        }
      ]
    },
    {
      "cell_type": "code",
      "metadata": {
        "colab": {
          "base_uri": "https://localhost:8080/"
        },
        "id": "lHPBgCtQhYtR",
        "outputId": "6b61fcd1-57e8-4ae0-ca02-92f874a5f9f1"
      },
      "source": [
        "pip install --user --upgrade tensorflow-model-optimization"
      ],
      "execution_count": 21,
      "outputs": [
        {
          "output_type": "stream",
          "name": "stdout",
          "text": [
            "Requirement already satisfied: tensorflow-model-optimization in /usr/local/lib/python3.7/dist-packages (0.6.0)\n",
            "Requirement already satisfied: six~=1.10 in /usr/local/lib/python3.7/dist-packages (from tensorflow-model-optimization) (1.15.0)\n",
            "Requirement already satisfied: dm-tree~=0.1.1 in /usr/local/lib/python3.7/dist-packages (from tensorflow-model-optimization) (0.1.6)\n",
            "Requirement already satisfied: numpy~=1.14 in /usr/local/lib/python3.7/dist-packages (from tensorflow-model-optimization) (1.19.5)\n"
          ]
        }
      ]
    },
    {
      "cell_type": "code",
      "metadata": {
        "id": "GlZhdlBEjA3B",
        "colab": {
          "base_uri": "https://localhost:8080/"
        },
        "outputId": "666974e8-9277-4821-c566-17dbde8f1ade"
      },
      "source": [
        "print(tf. __version__)"
      ],
      "execution_count": 22,
      "outputs": [
        {
          "output_type": "stream",
          "name": "stdout",
          "text": [
            "2.6.0\n"
          ]
        }
      ]
    },
    {
      "cell_type": "code",
      "metadata": {
        "id": "qucF6kTMa16B"
      },
      "source": [
        "import tensorflow_model_optimization as tfmot"
      ],
      "execution_count": 23,
      "outputs": []
    },
    {
      "cell_type": "code",
      "metadata": {
        "id": "L8jP2sJ0eKAC"
      },
      "source": [
        "quantize_model = tfmot.quantization.keras.quantize_annotate_model"
      ],
      "execution_count": 24,
      "outputs": []
    },
    {
      "cell_type": "code",
      "metadata": {
        "id": "hOmzdsRWDATB"
      },
      "source": [
        "quantize_annotate_layer = tfmot.quantization.keras.quantize_annotate_layer"
      ],
      "execution_count": 25,
      "outputs": []
    },
    {
      "cell_type": "code",
      "metadata": {
        "id": "gcgj8_ooJ1X1"
      },
      "source": [
        "quantize_apply = tfmot.quantization.keras.quantize_apply"
      ],
      "execution_count": 26,
      "outputs": []
    },
    {
      "cell_type": "code",
      "metadata": {
        "id": "EeS0PtP4LGI-"
      },
      "source": [
        "quantize_config = tfmot.quantization.keras.QuantizeConfig"
      ],
      "execution_count": 27,
      "outputs": []
    },
    {
      "cell_type": "code",
      "metadata": {
        "id": "JEK6Ds_yCaSG"
      },
      "source": [
        "model2 = keras.Sequential([\n",
        "                           quantize_annotate_layer(keras.layers.experimental.preprocessing.RandomFlip(\"horizontal\",input_shape=(644,1029,3))),\n",
        "                           quantize_annotate_layer(keras.layers.experimental.preprocessing.RandomRotation(0.1)),\n",
        "                           quantize_annotate_layer(keras.layers.experimental.preprocessing.RandomZoom(0.1)),\n",
        "                           quantize_annotate_layer(keras.layers.Conv2D(8, 3, padding='same', activation='relu')),\n",
        "                           quantize_annotate_layer(keras.layers.MaxPool2D()),\n",
        "                           #\n",
        "                           quantize_annotate_layer(keras.layers.Conv2D(16, 3, padding='same',activation='relu')),\n",
        "                           quantize_annotate_layer(keras.layers.MaxPool2D()),\n",
        "                           #\n",
        "                           quantize_annotate_layer(keras.layers.Conv2D(32 ,3, padding='same', activation='relu')),\n",
        "                           quantize_annotate_layer(keras.layers.MaxPool2D()),\n",
        "                           keras.layers.Dropout(0.2),\n",
        "                           ##\n",
        "                           keras.layers.Flatten(),\n",
        "                           ##\n",
        "                           quantize_annotate_layer(keras.layers.Dense(10,activation='relu')),\n",
        "                           ##\n",
        "                           keras.layers.Dense(1,activation='sigmoid')\n",
        "])"
      ],
      "execution_count": 32,
      "outputs": []
    },
    {
      "cell_type": "code",
      "metadata": {
        "id": "sZjFeRYu1lPJ"
      },
      "source": [
        "q_aware_model = quantize_model(model2)"
      ],
      "execution_count": 33,
      "outputs": []
    },
    {
      "cell_type": "code",
      "metadata": {
        "id": "acrqAPWV424P",
        "colab": {
          "base_uri": "https://localhost:8080/"
        },
        "outputId": "a14cc731-226f-4c0f-d775-a972a4fbca52"
      },
      "source": [
        "q_aware_model.compile(optimizer='adam',\n",
        "              loss='BinaryCrossentropy',\n",
        "              metrics=['accuracy'])\n",
        "q_aware_model.summary()"
      ],
      "execution_count": 34,
      "outputs": [
        {
          "output_type": "stream",
          "name": "stdout",
          "text": [
            "Model: \"sequential_3\"\n",
            "_________________________________________________________________\n",
            "Layer (type)                 Output Shape              Param #   \n",
            "=================================================================\n",
            "quantize_annotate_13 (Quanti (None, 644, 1029, 3)      0         \n",
            "_________________________________________________________________\n",
            "quantize_annotate_14 (Quanti (None, 644, 1029, 3)      0         \n",
            "_________________________________________________________________\n",
            "quantize_annotate_15 (Quanti (None, 644, 1029, 3)      0         \n",
            "_________________________________________________________________\n",
            "quantize_annotate_16 (Quanti (None, 644, 1029, 8)      224       \n",
            "_________________________________________________________________\n",
            "quantize_annotate_17 (Quanti (None, 322, 514, 8)       0         \n",
            "_________________________________________________________________\n",
            "quantize_annotate_18 (Quanti (None, 322, 514, 16)      1168      \n",
            "_________________________________________________________________\n",
            "quantize_annotate_19 (Quanti (None, 161, 257, 16)      0         \n",
            "_________________________________________________________________\n",
            "quantize_annotate_20 (Quanti (None, 161, 257, 32)      4640      \n",
            "_________________________________________________________________\n",
            "quantize_annotate_21 (Quanti (None, 80, 128, 32)       0         \n",
            "_________________________________________________________________\n",
            "quantize_annotate_23 (Quanti (None, 80, 128, 32)       0         \n",
            "_________________________________________________________________\n",
            "quantize_annotate_24 (Quanti (None, 327680)            0         \n",
            "_________________________________________________________________\n",
            "quantize_annotate_22 (Quanti (None, 10)                3276810   \n",
            "_________________________________________________________________\n",
            "quantize_annotate_25 (Quanti (None, 1)                 11        \n",
            "=================================================================\n",
            "Total params: 3,282,853\n",
            "Trainable params: 3,282,853\n",
            "Non-trainable params: 0\n",
            "_________________________________________________________________\n"
          ]
        }
      ]
    },
    {
      "cell_type": "code",
      "metadata": {
        "colab": {
          "base_uri": "https://localhost:8080/"
        },
        "id": "Sels3mwAGQdf",
        "outputId": "664b6ab1-c135-4b53-d791-67abea26d3ef"
      },
      "source": [
        "q_aware_model.fit(X_train_scaled, y_train, epochs=10, steps_per_epoch=10)"
      ],
      "execution_count": 39,
      "outputs": [
        {
          "output_type": "stream",
          "name": "stdout",
          "text": [
            "Epoch 1/10\n",
            "10/10 [==============================] - 25s 2s/step - loss: 0.4523 - accuracy: 0.7273\n",
            "Epoch 2/10\n",
            "10/10 [==============================] - 25s 2s/step - loss: 0.3373 - accuracy: 0.8182\n",
            "Epoch 3/10\n",
            "10/10 [==============================] - 24s 2s/step - loss: 0.3013 - accuracy: 0.8727\n",
            "Epoch 4/10\n",
            "10/10 [==============================] - 25s 2s/step - loss: 0.1982 - accuracy: 0.9455\n",
            "Epoch 5/10\n",
            "10/10 [==============================] - 25s 2s/step - loss: 0.1708 - accuracy: 0.9273\n",
            "Epoch 6/10\n",
            "10/10 [==============================] - 25s 2s/step - loss: 0.1386 - accuracy: 0.9455\n",
            "Epoch 7/10\n",
            "10/10 [==============================] - 25s 2s/step - loss: 0.1059 - accuracy: 0.9636\n",
            "Epoch 8/10\n",
            "10/10 [==============================] - 24s 2s/step - loss: 0.2313 - accuracy: 0.9273\n",
            "Epoch 9/10\n",
            "10/10 [==============================] - 24s 2s/step - loss: 0.1398 - accuracy: 0.9636\n",
            "Epoch 10/10\n",
            "10/10 [==============================] - 24s 2s/step - loss: 0.1368 - accuracy: 0.9455\n"
          ]
        },
        {
          "output_type": "execute_result",
          "data": {
            "text/plain": [
              "<keras.callbacks.History at 0x7fb581a1cf90>"
            ]
          },
          "metadata": {},
          "execution_count": 39
        }
      ]
    },
    {
      "cell_type": "code",
      "metadata": {
        "colab": {
          "base_uri": "https://localhost:8080/"
        },
        "id": "SgG-vByVGlU3",
        "outputId": "afc65e20-5180-4706-8167-0ba7f2686b31"
      },
      "source": [
        "q_aware_model.evaluate(X_test_scaled,y_test)"
      ],
      "execution_count": 40,
      "outputs": [
        {
          "output_type": "stream",
          "name": "stdout",
          "text": [
            "1/1 [==============================] - 2s 2s/step - loss: 0.1077 - accuracy: 0.9474\n"
          ]
        },
        {
          "output_type": "execute_result",
          "data": {
            "text/plain": [
              "[0.10771586745977402, 0.9473684430122375]"
            ]
          },
          "metadata": {},
          "execution_count": 40
        }
      ]
    },
    {
      "cell_type": "code",
      "metadata": {
        "colab": {
          "base_uri": "https://localhost:8080/"
        },
        "id": "zfgT5TW-I1Oi",
        "outputId": "335bd1bd-94c4-45cc-856d-27a7b4f6b542"
      },
      "source": [
        "converter = tf.lite.TFLiteConverter.from_keras_model(q_aware_model)\n",
        "converter.optimizations = [tf.lite.Optimize.DEFAULT]\n",
        "tflite_q_qwre_model = converter.convert()"
      ],
      "execution_count": 41,
      "outputs": [
        {
          "output_type": "stream",
          "name": "stderr",
          "text": [
            "WARNING:absl:Found untraced functions such as random_flip_2_layer_call_fn, random_flip_2_layer_call_and_return_conditional_losses, random_rotation_2_layer_call_fn, random_rotation_2_layer_call_and_return_conditional_losses, random_zoom_2_layer_call_fn while saving (showing 5 of 50). These functions will not be directly callable after loading.\n"
          ]
        },
        {
          "output_type": "stream",
          "name": "stdout",
          "text": [
            "INFO:tensorflow:Assets written to: /tmp/tmpjxq_1gpv/assets\n"
          ]
        },
        {
          "output_type": "stream",
          "name": "stderr",
          "text": [
            "INFO:tensorflow:Assets written to: /tmp/tmpjxq_1gpv/assets\n"
          ]
        }
      ]
    },
    {
      "cell_type": "code",
      "metadata": {
        "id": "YS97wHYqM34x"
      },
      "source": [
        "with open('tflite_q_qwre_model.tflite','wb') as f:\n",
        "  f.write(tflite_q_qwre_model)"
      ],
      "execution_count": 43,
      "outputs": []
    },
    {
      "cell_type": "code",
      "metadata": {
        "id": "sOIq7MX-OAq5"
      },
      "source": [
        "interpreter = tf.lite.Interpreter(model_path=\"tflite_q_qwre_model.tflite\")\n",
        "interpreter.allocate_tensors()\n",
        "\n",
        "# Get input and output tensors.\n",
        "input_details = interpreter.get_input_details()\n",
        "output_details = interpreter.get_output_details()"
      ],
      "execution_count": 45,
      "outputs": []
    },
    {
      "cell_type": "code",
      "metadata": {
        "id": "eB155UnvO_Wg"
      },
      "source": [
        "input_details[0]"
      ],
      "execution_count": null,
      "outputs": []
    }
  ]
}